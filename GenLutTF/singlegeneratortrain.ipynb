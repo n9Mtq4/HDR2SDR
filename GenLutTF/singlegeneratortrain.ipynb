{
 "cells": [
  {
   "cell_type": "code",
   "execution_count": null,
   "metadata": {},
   "outputs": [],
   "source": [
    "import time\n",
    "import random\n",
    "\n",
    "import pandas as pd\n",
    "import numpy as np\n",
    "import matplotlib.pyplot as plt\n",
    "\n",
    "import tensorflow as tf\n",
    "from tensorflow import keras\n",
    "from tensorflow.keras import layers\n",
    "from keras.models import load_model"
   ]
  },
  {
   "cell_type": "code",
   "execution_count": null,
   "metadata": {},
   "outputs": [],
   "source": [
    "from imagegenerator import HDR2SDRImageGenerator\n",
    "from singlecsvreader import SingleCSVReader\n",
    "from lutmaker import predict, write_lut_fast"
   ]
  },
  {
   "cell_type": "code",
   "execution_count": null,
   "metadata": {},
   "outputs": [],
   "source": [
    "tf.config.list_physical_devices('GPU')"
   ]
  },
  {
   "cell_type": "markdown",
   "metadata": {},
   "source": [
    "## Create the data generator"
   ]
  },
  {
   "cell_type": "code",
   "execution_count": null,
   "metadata": {},
   "outputs": [],
   "source": [
    "csv_types = {\n",
    "    'hr': np.uint16,\n",
    "    'hg': np.uint16,\n",
    "    'hb': np.uint16,\n",
    "    'sr': np.uint8,\n",
    "    'sg': np.uint8,\n",
    "    'sb': np.uint8,\n",
    "}\n",
    "\n",
    "csv_file = \"../data/s07e01_1.csv\"\n",
    "\n",
    "\n",
    "image_gen = SingleCSVReader(\n",
    "    csv_file=csv_file,\n",
    "    batch_size=2048,\n",
    "    csv_dtypes=csv_types,\n",
    "    x_cols=['hr', 'hg', 'hb'],\n",
    "    y_cols=['sr', 'sg', 'sb']\n",
    ")\n",
    "\n",
    "image_gen.load()"
   ]
  },
  {
   "cell_type": "markdown",
   "metadata": {},
   "source": [
    "## Train the model"
   ]
  },
  {
   "cell_type": "code",
   "execution_count": null,
   "metadata": {},
   "outputs": [],
   "source": [
    "def timestamp():\n",
    "    return str(int(time.time()))\n",
    "\n",
    "\n",
    "def build_model():\n",
    "    model = keras.Sequential([\n",
    "        layers.Dense(8, activation=tf.nn.relu, input_shape=[3]),\n",
    "        layers.Dense(8, activation=tf.nn.relu),\n",
    "        layers.Dense(3)\n",
    "    ])\n",
    "    \n",
    "    optimizer = tf.keras.optimizers.Nadam(learning_rate=0.001)\n",
    "    \n",
    "    # loss: mean_squared_error or mean_absolute_error\n",
    "    model.compile(loss='mean_absolute_error',\n",
    "                  optimizer=optimizer,\n",
    "                  metrics=['mean_absolute_error', 'mean_squared_error'])\n",
    "    return model"
   ]
  },
  {
   "cell_type": "code",
   "execution_count": null,
   "metadata": {},
   "outputs": [],
   "source": [
    "model = build_model()\n",
    "display(model.summary())"
   ]
  },
  {
   "cell_type": "code",
   "execution_count": null,
   "metadata": {
    "scrolled": false
   },
   "outputs": [],
   "source": [
    "cp_filepath = \"../checkpoints/weights-\" + timestamp() + \"-{loss:.2f}.hdf5\"\n",
    "checkpoint = keras.callbacks.ModelCheckpoint(cp_filepath, monitor='loss')\n",
    "\n",
    "model.fit(image_gen, epochs=3, callbacks=[checkpoint], shuffle=True)"
   ]
  },
  {
   "cell_type": "markdown",
   "metadata": {},
   "source": [
    "## Test and output LUT"
   ]
  },
  {
   "cell_type": "code",
   "execution_count": null,
   "metadata": {},
   "outputs": [],
   "source": [
    "predict(model, 65535, 61937, 771) # The yellow of the CW logo - should be (133, 132, 81)"
   ]
  },
  {
   "cell_type": "code",
   "execution_count": null,
   "metadata": {},
   "outputs": [],
   "source": [
    "write_lut_fast(\"../tf_lut.cube\", model, 65)"
   ]
  },
  {
   "cell_type": "code",
   "execution_count": null,
   "metadata": {},
   "outputs": [],
   "source": []
  }
 ],
 "metadata": {
  "kernelspec": {
   "display_name": "Python 3",
   "language": "python",
   "name": "python3"
  },
  "language_info": {
   "codemirror_mode": {
    "name": "ipython",
    "version": 3
   },
   "file_extension": ".py",
   "mimetype": "text/x-python",
   "name": "python",
   "nbconvert_exporter": "python",
   "pygments_lexer": "ipython3",
   "version": "3.8.2"
  }
 },
 "nbformat": 4,
 "nbformat_minor": 2
}
