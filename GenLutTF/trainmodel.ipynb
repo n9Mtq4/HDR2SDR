{
 "cells": [
  {
   "cell_type": "code",
   "execution_count": null,
   "metadata": {},
   "outputs": [],
   "source": [
    "# import os\n",
    "# os.environ[\"CUDA_VISIBLE_DEVICES\"] = \"-1\""
   ]
  },
  {
   "cell_type": "code",
   "execution_count": null,
   "metadata": {},
   "outputs": [],
   "source": [
    "import gc\n",
    "\n",
    "# gc.collect()"
   ]
  },
  {
   "cell_type": "code",
   "execution_count": null,
   "metadata": {},
   "outputs": [],
   "source": [
    "import pandas as pd\n",
    "import numpy as np\n",
    "import matplotlib.pyplot as plt\n",
    "import tensorflow as tf\n",
    "from tensorflow import keras\n",
    "from tensorflow.keras import layers\n",
    "from keras.models import load_model"
   ]
  },
  {
   "cell_type": "code",
   "execution_count": null,
   "metadata": {},
   "outputs": [],
   "source": [
    "tf.config.list_physical_devices('GPU')"
   ]
  },
  {
   "cell_type": "code",
   "execution_count": null,
   "metadata": {},
   "outputs": [],
   "source": [
    "csv_types = {\n",
    "    'hr': np.uint16,\n",
    "    'hg': np.uint16,\n",
    "    'hb': np.uint16,\n",
    "    'sr': np.uint8,\n",
    "    'sg': np.uint8,\n",
    "    'sb': np.uint8,\n",
    "}"
   ]
  },
  {
   "cell_type": "code",
   "execution_count": null,
   "metadata": {},
   "outputs": [],
   "source": [
    "data = pd.read_csv('../data/s07e02_1.xz', dtype=csv_types)\n",
    "# data = data.sample(frac=1)\n",
    "# data.reset_index(drop=True, inplace=True)\n",
    "\n",
    "# data.drop_duplicates(inplace=True)\n",
    "\n",
    "# index = data.pop('i')\n",
    "\n",
    "display(data)\n",
    "display(data.dtypes)"
   ]
  },
  {
   "cell_type": "code",
   "execution_count": null,
   "metadata": {},
   "outputs": [],
   "source": [
    "features = data[['hr', 'hg', 'hb']]\n",
    "labels = data[['sr', 'sg', 'sb']]"
   ]
  },
  {
   "cell_type": "code",
   "execution_count": null,
   "metadata": {},
   "outputs": [],
   "source": [
    "dataset = tf.data.Dataset.from_tensor_slices((features.values, labels.values))\n",
    "# dataset = tf.data.Dataset.from_tensor_slices((features, labels))\n",
    "\n",
    "for feat, targ in dataset.take(5):\n",
    "    print('Features: {}, Target: {}'.format(feat, targ))\n",
    "\n",
    "train_dataset = dataset.shuffle(len(features) // 48).batch(2048)"
   ]
  },
  {
   "cell_type": "code",
   "execution_count": null,
   "metadata": {},
   "outputs": [],
   "source": [
    "# free up any ram not needed for training\n",
    "data = None\n",
    "features = None\n",
    "labels = None\n",
    "dataset = None"
   ]
  },
  {
   "cell_type": "code",
   "execution_count": null,
   "metadata": {},
   "outputs": [],
   "source": [
    "def plot_history(history):\n",
    "    hist = pd.DataFrame(history.history)\n",
    "    hist['epoch'] = history.epoch\n",
    "  \n",
    "    plt.figure()\n",
    "    plt.xlabel('Epoch')\n",
    "    plt.ylabel('Mean Abs Error [house_value]')\n",
    "    plt.plot(hist['epoch'], hist['mean_absolute_error'], label='Train Error')\n",
    "#   plt.plot(hist['epoch'], hist['val_mean_absolute_error'], label = 'Val Error')\n",
    "#   plt.ylim([0,max(hist['val_mean_absolute_error'].max(), hist['mean_absolute_error'].max())])\n",
    "    plt.ylim([0, hist['mean_absolute_error'].max()])\n",
    "    plt.legend()\n",
    "    \n",
    "    plt.figure()\n",
    "    plt.xlabel('Epoch')\n",
    "    plt.ylabel('Mean Square Error [$house_value^2$]')\n",
    "    plt.plot(hist['epoch'], hist['mean_squared_error'], label='Train Error')\n",
    "#   plt.plot(hist['epoch'], hist['val_mean_squared_error'], label = 'Val Error')\n",
    "#   plt.ylim([0,max(hist['val_mean_squared_error'].max(), hist['mean_squared_error'].max())])\n",
    "    plt.ylim([0, hist['mean_squared_error'].max()])\n",
    "    plt.legend()\n",
    "    plt.show()"
   ]
  },
  {
   "cell_type": "code",
   "execution_count": null,
   "metadata": {},
   "outputs": [],
   "source": [
    "#   model = keras.Sequential([\n",
    "#     layers.Dense(128, activation=tf.nn.relu, input_shape=[3]),\n",
    "#     layers.Dense(256, activation=tf.nn.relu),\n",
    "#     layers.Dense(128, activation=tf.nn.relu),\n",
    "#     layers.Dense(16, activation=tf.nn.relu),\n",
    "#     layers.Dense(3)\n",
    "#   ])\n",
    "\n",
    "#   model = keras.Sequential([\n",
    "#     layers.Dense(256, activation=tf.nn.relu, input_shape=[3]),\n",
    "#     layers.Dense(786, activation=tf.nn.relu),\n",
    "#     layers.Dense(256, activation=tf.nn.relu),\n",
    "#     layers.Dense(32, activation=tf.nn.relu),\n",
    "#     layers.Dense(3)\n",
    "#   ])\n",
    "  \n",
    "\n",
    "# 128 - 128 - 32 seems promising\n",
    "# 64 - 64 is pretty good\n",
    "# 32 - 32 works too\n",
    "# 16 - 16 almost works 9:02 still blocks\n",
    "# 8 - 8 yellow logo is bad. didn't test to 9:02\n",
    "# 10 - 10 has a better logo, but still not great\n",
    "\n",
    "def build_model():\n",
    "    model = keras.Sequential([\n",
    "        layers.Dense(24, activation=tf.nn.relu, input_shape=[3]),\n",
    "        layers.Dense(24, activation=tf.nn.relu),\n",
    "        layers.Dense(3)\n",
    "    ])\n",
    "    \n",
    "    optimizer = tf.keras.optimizers.Nadam(learning_rate=0.001)\n",
    "    \n",
    "    # loss: mean_squared_error\n",
    "    model.compile(loss='mean_absolute_error',\n",
    "                  optimizer=optimizer,\n",
    "                  metrics=['mean_absolute_error', 'mean_squared_error'])\n",
    "    return model"
   ]
  },
  {
   "cell_type": "code",
   "execution_count": null,
   "metadata": {},
   "outputs": [],
   "source": [
    "restore_path = None\n",
    "restore_path = \"../checkpoints/weights-01-3.23.hdf5\"\n",
    "\n",
    "model = build_model()\n",
    "display(model.summary())\n",
    "\n",
    "if restore_path is not None:\n",
    "    model.load_weights(restore_path)\n",
    "    display(\"loaded model from:\" + restore_path)\n",
    "\n",
    "gc.collect()"
   ]
  },
  {
   "cell_type": "code",
   "execution_count": null,
   "metadata": {
    "scrolled": false
   },
   "outputs": [],
   "source": [
    "display(model.summary())\n",
    "\n",
    "# display_callback = TQDMNotebookCallback()\n",
    "\n",
    "filepath = \"../checkpoints/weights-{epoch:02d}-{loss:.2f}.hdf5\"\n",
    "checkpoint = keras.callbacks.ModelCheckpoint(filepath, monitor='loss')\n",
    "\n",
    "history = model.fit(train_dataset, epochs=1, callbacks=[checkpoint])\n",
    "\n",
    "# plot_history(history)"
   ]
  },
  {
   "cell_type": "code",
   "execution_count": null,
   "metadata": {},
   "outputs": [],
   "source": [
    "def predict(hr, hg, hb):\n",
    "    tf_in = tf.convert_to_tensor([[hr, hg, hb]])\n",
    "    sdr_out = model.predict(tf_in)\n",
    "    sr, sg, sb = sdr_out[0]\n",
    "    sr = np.clip(sr, 0.0, 255.0)\n",
    "    sg = np.clip(sg, 0.0, 255.0)\n",
    "    sb = np.clip(sb, 0.0, 255.0)\n",
    "    return sr, sg, sb\n",
    "\n",
    "def batch_predict(lst):\n",
    "    tf_in = tf.convert_to_tensor(lst)\n",
    "    return batch_predict_tf(tf_in)\n",
    "\n",
    "def batch_predict_tf(tf_in):\n",
    "    sdr_out = model.predict(tf_in)\n",
    "    return np.clip(sdr_out, 0.0, 255.0)"
   ]
  },
  {
   "cell_type": "code",
   "execution_count": null,
   "metadata": {},
   "outputs": [],
   "source": [
    "predict(50000, 50000, 0)"
   ]
  },
  {
   "cell_type": "code",
   "execution_count": null,
   "metadata": {},
   "outputs": [],
   "source": [
    "# usually 17, 35, or 65. 129 doesn't work in some ffmpeg builds\n",
    "lut_size = 129\n",
    "\n",
    "lut_step_size = 65535.0 / lut_size\n",
    "\n",
    "def luti_to_hdr(i):\n",
    "    return lut_step_size * i\n",
    "\n",
    "def sdr_to_lutv(c):\n",
    "    return c / 255.0\n",
    "\n",
    "def write_lut_fast():\n",
    "    lut_file = open(\"../generated_lut.cube\", \"w+\")\n",
    "    lut_file.write(\"TITLE \\\"HDR_2_SDR_generated_lut\\\"\")\n",
    "    lut_file.write(\"\\n\")\n",
    "    lut_file.write(\"LUT_3D_SIZE \" + str(lut_size))\n",
    "    lut_file.write(\"\\n\")\n",
    "    for bi in range(0, lut_size):\n",
    "        for gi in range(0, lut_size):\n",
    "            ril = list(range(0, lut_size))\n",
    "            hdr_list = [[luti_to_hdr(ri), luti_to_hdr(gi), luti_to_hdr(bi)] for ri in ril]\n",
    "            prediction_list = batch_predict(hdr_list)\n",
    "            for sr, sg, sb in prediction_list:\n",
    "                lr, lg, lb = sdr_to_lutv(sr), sdr_to_lutv(sg), sdr_to_lutv(sb)\n",
    "                lut_file.write(f\"{lr:.6f} {lg:.6f} {lb:.6f}\")\n",
    "                lut_file.write(\"\\n\")\n",
    "    lut_file.close()"
   ]
  },
  {
   "cell_type": "code",
   "execution_count": null,
   "metadata": {},
   "outputs": [],
   "source": [
    "write_lut_fast()"
   ]
  },
  {
   "cell_type": "code",
   "execution_count": null,
   "metadata": {},
   "outputs": [],
   "source": []
  }
 ],
 "metadata": {
  "kernelspec": {
   "display_name": "Python 3",
   "language": "python",
   "name": "python3"
  },
  "language_info": {
   "codemirror_mode": {
    "name": "ipython",
    "version": 3
   },
   "file_extension": ".py",
   "mimetype": "text/x-python",
   "name": "python",
   "nbconvert_exporter": "python",
   "pygments_lexer": "ipython3",
   "version": "3.8.2"
  }
 },
 "nbformat": 4,
 "nbformat_minor": 2
}
